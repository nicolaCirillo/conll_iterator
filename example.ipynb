{
 "cells": [
  {
   "cell_type": "code",
   "execution_count": 1,
   "metadata": {},
   "outputs": [],
   "source": [
    "## import\n",
    "from conll_iterator import ConllIterator"
   ]
  },
  {
   "cell_type": "code",
   "execution_count": 2,
   "metadata": {},
   "outputs": [],
   "source": [
    "## Creates an object (ConllIterator) that iterates over sentences of a ConLL file.\n",
    "\n",
    "corpus = \"sample/sample_corpus.conllu\"\n",
    "# dictionary with features and their position in the ConLL lines.\n",
    "# format: {<feature, str>: <position, int>}  \n",
    "idx_dict = {\"id\": 0, \"surface\": 1, \"lemma\": 2, \"pos\": 3}\n",
    "sentences = ConllIterator(corpus, idx_dict, codec='utf8')\n",
    "# set_itermode changes the behaviour of the iterator.\n",
    "sentences.set_itermode('sent', keys=[\"surface\", \"lemma\", \"pos\"], ignore_compound=True)"
   ]
  },
  {
   "cell_type": "code",
   "execution_count": null,
   "metadata": {},
   "outputs": [],
   "source": [
    "## Prints first 100 elements yelded by the iterator\n",
    "sentences.sample()"
   ]
  }
 ],
 "metadata": {
  "interpreter": {
   "hash": "5b923e8702b54481da16d37441ccf0ecf25f1b925191889641c0b10de85c2852"
  },
  "kernelspec": {
   "display_name": "Python 3.7.6 64-bit (conda)",
   "name": "python3"
  },
  "language_info": {
   "codemirror_mode": {
    "name": "ipython",
    "version": 3
   },
   "file_extension": ".py",
   "mimetype": "text/x-python",
   "name": "python",
   "nbconvert_exporter": "python",
   "pygments_lexer": "ipython3",
   "version": "3.7.6"
  }
 },
 "nbformat": 4,
 "nbformat_minor": 4
}
